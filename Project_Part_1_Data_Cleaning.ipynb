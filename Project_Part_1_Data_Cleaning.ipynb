{
 "cells": [
  {
   "cell_type": "markdown",
   "metadata": {},
   "source": [
    "# Project Part 1: Data Cleaning\n",
    "\n",
    "* Student name: Daniel Büttner\n"
   ]
  },
  {
   "cell_type": "markdown",
   "metadata": {},
   "source": [
    "## Initial Investigation, Exploratory Data Analysis and Data Cleaning\n",
    "\n",
    "- 1) Loading relevant modules and raw data from file\n",
    "- 2) First view on data/column formats and missing values (# non-null values)\n",
    "- 3) Inspect repeated House IDs\n",
    "- 4) Investigate value range and distribution of dependent variable, object of study: house price\n",
    "- 5) Exploring columns, variables with missing values, cleaning, imputing\n",
    "- 6) Exploring value ranges and characteristics of other variables\n",
    "- 7) Store cleaned data frame in file for further regression analysis"
   ]
  },
  {
   "cell_type": "code",
   "execution_count": null,
   "metadata": {},
   "outputs": [],
   "source": []
  },
  {
   "cell_type": "markdown",
   "metadata": {},
   "source": [
    "## 1) Loading relevant modules and raw data from file:"
   ]
  },
  {
   "cell_type": "code",
   "execution_count": 535,
   "metadata": {},
   "outputs": [],
   "source": [
    "# Importing relevant Python modules and raw data from file:\n",
    "\n",
    "import pandas as pd\n",
    "import numpy as np\n",
    "import matplotlib.pyplot as plt\n",
    "import seaborn as sns\n",
    "from scipy.stats import norm\n",
    "import statsmodels.api as sms\n",
    "import statsmodels.formula.api as smf\n",
    "\n",
    "file1 = '/Users/dbuettner/nf-ds/Project_Data_Analysis/House_Prices_Project/King_County_House_prices_dataset.csv'\n",
    "h_p = pd.read_csv(file1, skipinitialspace=True)"
   ]
  },
  {
   "cell_type": "code",
   "execution_count": null,
   "metadata": {},
   "outputs": [],
   "source": []
  },
  {
   "cell_type": "markdown",
   "metadata": {},
   "source": [
    "## 2) First view on data/column formats and missing values:"
   ]
  },
  {
   "cell_type": "code",
   "execution_count": 417,
   "metadata": {},
   "outputs": [
    {
     "name": "stdout",
     "output_type": "stream",
     "text": [
      "<class 'pandas.core.frame.DataFrame'>\n",
      "RangeIndex: 21597 entries, 0 to 21596\n",
      "Data columns (total 21 columns):\n",
      "id               21597 non-null int64\n",
      "date             21597 non-null object\n",
      "price            21597 non-null float64\n",
      "bedrooms         21597 non-null int64\n",
      "bathrooms        21597 non-null float64\n",
      "sqft_living      21597 non-null int64\n",
      "sqft_lot         21597 non-null int64\n",
      "floors           21597 non-null float64\n",
      "waterfront       19221 non-null float64\n",
      "view             21534 non-null float64\n",
      "condition        21597 non-null int64\n",
      "grade            21597 non-null int64\n",
      "sqft_above       21597 non-null int64\n",
      "sqft_basement    21597 non-null object\n",
      "yr_built         21597 non-null int64\n",
      "yr_renovated     17755 non-null float64\n",
      "zipcode          21597 non-null int64\n",
      "lat              21597 non-null float64\n",
      "long             21597 non-null float64\n",
      "sqft_living15    21597 non-null int64\n",
      "sqft_lot15       21597 non-null int64\n",
      "dtypes: float64(8), int64(11), object(2)\n",
      "memory usage: 3.5+ MB\n"
     ]
    }
   ],
   "source": [
    "# Looking at the general Information about the different Columns:\n",
    "h_p.info()"
   ]
  },
  {
   "cell_type": "markdown",
   "metadata": {},
   "source": [
    "#### Variables \"waterfront\", \"view\" and \"yr_renovated\" contain missing values. Variables \"date\" and \"sqft_basement\" are stored as object type variables."
   ]
  },
  {
   "cell_type": "code",
   "execution_count": null,
   "metadata": {},
   "outputs": [],
   "source": []
  },
  {
   "cell_type": "code",
   "execution_count": 418,
   "metadata": {},
   "outputs": [
    {
     "data": {
      "text/html": [
       "<div>\n",
       "<style scoped>\n",
       "    .dataframe tbody tr th:only-of-type {\n",
       "        vertical-align: middle;\n",
       "    }\n",
       "\n",
       "    .dataframe tbody tr th {\n",
       "        vertical-align: top;\n",
       "    }\n",
       "\n",
       "    .dataframe thead th {\n",
       "        text-align: right;\n",
       "    }\n",
       "</style>\n",
       "<table border=\"1\" class=\"dataframe\">\n",
       "  <thead>\n",
       "    <tr style=\"text-align: right;\">\n",
       "      <th></th>\n",
       "      <th>id</th>\n",
       "      <th>price</th>\n",
       "      <th>bedrooms</th>\n",
       "      <th>bathrooms</th>\n",
       "      <th>sqft_living</th>\n",
       "      <th>sqft_lot</th>\n",
       "      <th>floors</th>\n",
       "      <th>waterfront</th>\n",
       "      <th>view</th>\n",
       "      <th>condition</th>\n",
       "      <th>grade</th>\n",
       "      <th>sqft_above</th>\n",
       "      <th>yr_built</th>\n",
       "      <th>yr_renovated</th>\n",
       "      <th>zipcode</th>\n",
       "      <th>lat</th>\n",
       "      <th>long</th>\n",
       "      <th>sqft_living15</th>\n",
       "      <th>sqft_lot15</th>\n",
       "    </tr>\n",
       "  </thead>\n",
       "  <tbody>\n",
       "    <tr>\n",
       "      <th>count</th>\n",
       "      <td>2.159700e+04</td>\n",
       "      <td>2.159700e+04</td>\n",
       "      <td>21597.000000</td>\n",
       "      <td>21597.000000</td>\n",
       "      <td>21597.000000</td>\n",
       "      <td>2.159700e+04</td>\n",
       "      <td>21597.000000</td>\n",
       "      <td>19221.000000</td>\n",
       "      <td>21534.000000</td>\n",
       "      <td>21597.000000</td>\n",
       "      <td>21597.000000</td>\n",
       "      <td>21597.000000</td>\n",
       "      <td>21597.000000</td>\n",
       "      <td>17755.000000</td>\n",
       "      <td>21597.000000</td>\n",
       "      <td>21597.000000</td>\n",
       "      <td>21597.000000</td>\n",
       "      <td>21597.000000</td>\n",
       "      <td>21597.000000</td>\n",
       "    </tr>\n",
       "    <tr>\n",
       "      <th>mean</th>\n",
       "      <td>4.580474e+09</td>\n",
       "      <td>5.402966e+05</td>\n",
       "      <td>3.373200</td>\n",
       "      <td>2.115826</td>\n",
       "      <td>2080.321850</td>\n",
       "      <td>1.509941e+04</td>\n",
       "      <td>1.494096</td>\n",
       "      <td>0.007596</td>\n",
       "      <td>0.233863</td>\n",
       "      <td>3.409825</td>\n",
       "      <td>7.657915</td>\n",
       "      <td>1788.596842</td>\n",
       "      <td>1970.999676</td>\n",
       "      <td>83.636778</td>\n",
       "      <td>98077.951845</td>\n",
       "      <td>47.560093</td>\n",
       "      <td>-122.213982</td>\n",
       "      <td>1986.620318</td>\n",
       "      <td>12758.283512</td>\n",
       "    </tr>\n",
       "    <tr>\n",
       "      <th>std</th>\n",
       "      <td>2.876736e+09</td>\n",
       "      <td>3.673681e+05</td>\n",
       "      <td>0.926299</td>\n",
       "      <td>0.768984</td>\n",
       "      <td>918.106125</td>\n",
       "      <td>4.141264e+04</td>\n",
       "      <td>0.539683</td>\n",
       "      <td>0.086825</td>\n",
       "      <td>0.765686</td>\n",
       "      <td>0.650546</td>\n",
       "      <td>1.173200</td>\n",
       "      <td>827.759761</td>\n",
       "      <td>29.375234</td>\n",
       "      <td>399.946414</td>\n",
       "      <td>53.513072</td>\n",
       "      <td>0.138552</td>\n",
       "      <td>0.140724</td>\n",
       "      <td>685.230472</td>\n",
       "      <td>27274.441950</td>\n",
       "    </tr>\n",
       "    <tr>\n",
       "      <th>min</th>\n",
       "      <td>1.000102e+06</td>\n",
       "      <td>7.800000e+04</td>\n",
       "      <td>1.000000</td>\n",
       "      <td>0.500000</td>\n",
       "      <td>370.000000</td>\n",
       "      <td>5.200000e+02</td>\n",
       "      <td>1.000000</td>\n",
       "      <td>0.000000</td>\n",
       "      <td>0.000000</td>\n",
       "      <td>1.000000</td>\n",
       "      <td>3.000000</td>\n",
       "      <td>370.000000</td>\n",
       "      <td>1900.000000</td>\n",
       "      <td>0.000000</td>\n",
       "      <td>98001.000000</td>\n",
       "      <td>47.155900</td>\n",
       "      <td>-122.519000</td>\n",
       "      <td>399.000000</td>\n",
       "      <td>651.000000</td>\n",
       "    </tr>\n",
       "    <tr>\n",
       "      <th>25%</th>\n",
       "      <td>2.123049e+09</td>\n",
       "      <td>3.220000e+05</td>\n",
       "      <td>3.000000</td>\n",
       "      <td>1.750000</td>\n",
       "      <td>1430.000000</td>\n",
       "      <td>5.040000e+03</td>\n",
       "      <td>1.000000</td>\n",
       "      <td>0.000000</td>\n",
       "      <td>0.000000</td>\n",
       "      <td>3.000000</td>\n",
       "      <td>7.000000</td>\n",
       "      <td>1190.000000</td>\n",
       "      <td>1951.000000</td>\n",
       "      <td>0.000000</td>\n",
       "      <td>98033.000000</td>\n",
       "      <td>47.471100</td>\n",
       "      <td>-122.328000</td>\n",
       "      <td>1490.000000</td>\n",
       "      <td>5100.000000</td>\n",
       "    </tr>\n",
       "    <tr>\n",
       "      <th>50%</th>\n",
       "      <td>3.904930e+09</td>\n",
       "      <td>4.500000e+05</td>\n",
       "      <td>3.000000</td>\n",
       "      <td>2.250000</td>\n",
       "      <td>1910.000000</td>\n",
       "      <td>7.618000e+03</td>\n",
       "      <td>1.500000</td>\n",
       "      <td>0.000000</td>\n",
       "      <td>0.000000</td>\n",
       "      <td>3.000000</td>\n",
       "      <td>7.000000</td>\n",
       "      <td>1560.000000</td>\n",
       "      <td>1975.000000</td>\n",
       "      <td>0.000000</td>\n",
       "      <td>98065.000000</td>\n",
       "      <td>47.571800</td>\n",
       "      <td>-122.231000</td>\n",
       "      <td>1840.000000</td>\n",
       "      <td>7620.000000</td>\n",
       "    </tr>\n",
       "    <tr>\n",
       "      <th>75%</th>\n",
       "      <td>7.308900e+09</td>\n",
       "      <td>6.450000e+05</td>\n",
       "      <td>4.000000</td>\n",
       "      <td>2.500000</td>\n",
       "      <td>2550.000000</td>\n",
       "      <td>1.068500e+04</td>\n",
       "      <td>2.000000</td>\n",
       "      <td>0.000000</td>\n",
       "      <td>0.000000</td>\n",
       "      <td>4.000000</td>\n",
       "      <td>8.000000</td>\n",
       "      <td>2210.000000</td>\n",
       "      <td>1997.000000</td>\n",
       "      <td>0.000000</td>\n",
       "      <td>98118.000000</td>\n",
       "      <td>47.678000</td>\n",
       "      <td>-122.125000</td>\n",
       "      <td>2360.000000</td>\n",
       "      <td>10083.000000</td>\n",
       "    </tr>\n",
       "    <tr>\n",
       "      <th>max</th>\n",
       "      <td>9.900000e+09</td>\n",
       "      <td>7.700000e+06</td>\n",
       "      <td>33.000000</td>\n",
       "      <td>8.000000</td>\n",
       "      <td>13540.000000</td>\n",
       "      <td>1.651359e+06</td>\n",
       "      <td>3.500000</td>\n",
       "      <td>1.000000</td>\n",
       "      <td>4.000000</td>\n",
       "      <td>5.000000</td>\n",
       "      <td>13.000000</td>\n",
       "      <td>9410.000000</td>\n",
       "      <td>2015.000000</td>\n",
       "      <td>2015.000000</td>\n",
       "      <td>98199.000000</td>\n",
       "      <td>47.777600</td>\n",
       "      <td>-121.315000</td>\n",
       "      <td>6210.000000</td>\n",
       "      <td>871200.000000</td>\n",
       "    </tr>\n",
       "  </tbody>\n",
       "</table>\n",
       "</div>"
      ],
      "text/plain": [
       "                 id         price      bedrooms     bathrooms   sqft_living  \\\n",
       "count  2.159700e+04  2.159700e+04  21597.000000  21597.000000  21597.000000   \n",
       "mean   4.580474e+09  5.402966e+05      3.373200      2.115826   2080.321850   \n",
       "std    2.876736e+09  3.673681e+05      0.926299      0.768984    918.106125   \n",
       "min    1.000102e+06  7.800000e+04      1.000000      0.500000    370.000000   \n",
       "25%    2.123049e+09  3.220000e+05      3.000000      1.750000   1430.000000   \n",
       "50%    3.904930e+09  4.500000e+05      3.000000      2.250000   1910.000000   \n",
       "75%    7.308900e+09  6.450000e+05      4.000000      2.500000   2550.000000   \n",
       "max    9.900000e+09  7.700000e+06     33.000000      8.000000  13540.000000   \n",
       "\n",
       "           sqft_lot        floors    waterfront          view     condition  \\\n",
       "count  2.159700e+04  21597.000000  19221.000000  21534.000000  21597.000000   \n",
       "mean   1.509941e+04      1.494096      0.007596      0.233863      3.409825   \n",
       "std    4.141264e+04      0.539683      0.086825      0.765686      0.650546   \n",
       "min    5.200000e+02      1.000000      0.000000      0.000000      1.000000   \n",
       "25%    5.040000e+03      1.000000      0.000000      0.000000      3.000000   \n",
       "50%    7.618000e+03      1.500000      0.000000      0.000000      3.000000   \n",
       "75%    1.068500e+04      2.000000      0.000000      0.000000      4.000000   \n",
       "max    1.651359e+06      3.500000      1.000000      4.000000      5.000000   \n",
       "\n",
       "              grade    sqft_above      yr_built  yr_renovated       zipcode  \\\n",
       "count  21597.000000  21597.000000  21597.000000  17755.000000  21597.000000   \n",
       "mean       7.657915   1788.596842   1970.999676     83.636778  98077.951845   \n",
       "std        1.173200    827.759761     29.375234    399.946414     53.513072   \n",
       "min        3.000000    370.000000   1900.000000      0.000000  98001.000000   \n",
       "25%        7.000000   1190.000000   1951.000000      0.000000  98033.000000   \n",
       "50%        7.000000   1560.000000   1975.000000      0.000000  98065.000000   \n",
       "75%        8.000000   2210.000000   1997.000000      0.000000  98118.000000   \n",
       "max       13.000000   9410.000000   2015.000000   2015.000000  98199.000000   \n",
       "\n",
       "                lat          long  sqft_living15     sqft_lot15  \n",
       "count  21597.000000  21597.000000   21597.000000   21597.000000  \n",
       "mean      47.560093   -122.213982    1986.620318   12758.283512  \n",
       "std        0.138552      0.140724     685.230472   27274.441950  \n",
       "min       47.155900   -122.519000     399.000000     651.000000  \n",
       "25%       47.471100   -122.328000    1490.000000    5100.000000  \n",
       "50%       47.571800   -122.231000    1840.000000    7620.000000  \n",
       "75%       47.678000   -122.125000    2360.000000   10083.000000  \n",
       "max       47.777600   -121.315000    6210.000000  871200.000000  "
      ]
     },
     "execution_count": 418,
     "metadata": {},
     "output_type": "execute_result"
    }
   ],
   "source": [
    "# first look at summary statistics:\n",
    "h_p.describe()"
   ]
  },
  {
   "cell_type": "code",
   "execution_count": 419,
   "metadata": {},
   "outputs": [
    {
     "data": {
      "text/plain": [
       "id               21420\n",
       "sqft_lot          9776\n",
       "sqft_lot15        8682\n",
       "lat               5033\n",
       "price             3622\n",
       "sqft_living       1034\n",
       "sqft_above         942\n",
       "sqft_living15      777\n",
       "long               751\n",
       "date               372\n",
       "sqft_basement      304\n",
       "yr_built           116\n",
       "yr_renovated        70\n",
       "zipcode             70\n",
       "bathrooms           29\n",
       "bedrooms            12\n",
       "grade               11\n",
       "floors               6\n",
       "condition            5\n",
       "view                 5\n",
       "waterfront           2\n",
       "dtype: int64"
      ]
     },
     "execution_count": 419,
     "metadata": {},
     "output_type": "execute_result"
    }
   ],
   "source": [
    "# looking at the number of unique values for the different variables:\n",
    "h_p.nunique().sort_values(ascending=False)"
   ]
  },
  {
   "cell_type": "markdown",
   "metadata": {},
   "source": [
    "## 3) Inspect repeated House IDs:\n",
    "\n",
    "- Why is the number of unique values of the ID columns not equal to the total number of rows in the data set??"
   ]
  },
  {
   "cell_type": "code",
   "execution_count": 420,
   "metadata": {},
   "outputs": [
    {
     "data": {
      "text/plain": [
       "795000620     3\n",
       "1825069031    2\n",
       "2019200220    2\n",
       "7129304540    2\n",
       "1781500435    2\n",
       "3969300030    2\n",
       "2560801222    2\n",
       "3883800011    2\n",
       "2228900270    2\n",
       "251300110     2\n",
       "5282200015    2\n",
       "2787460720    2\n",
       "5536100020    2\n",
       "2568300045    2\n",
       "8648900110    2\n",
       "8910500150    2\n",
       "2044500213    2\n",
       "4222310010    2\n",
       "8651402750    2\n",
       "8820903380    2\n",
       "Name: id, dtype: int64"
      ]
     },
     "execution_count": 420,
     "metadata": {},
     "output_type": "execute_result"
    }
   ],
   "source": [
    "# Value counts for the ID column\n",
    "\n",
    "h_p.id.value_counts().nlargest(20)\n",
    "\n",
    "#(h_p.id.value_counts() > 1).sum()\n",
    "# !!! total number of houses sold more than one: 176 (175 twice, 1 three-times) !!!"
   ]
  },
  {
   "cell_type": "markdown",
   "metadata": {},
   "source": [
    "#### looking at repeated House ID examples:"
   ]
  },
  {
   "cell_type": "code",
   "execution_count": 421,
   "metadata": {},
   "outputs": [
    {
     "data": {
      "text/html": [
       "<div>\n",
       "<style scoped>\n",
       "    .dataframe tbody tr th:only-of-type {\n",
       "        vertical-align: middle;\n",
       "    }\n",
       "\n",
       "    .dataframe tbody tr th {\n",
       "        vertical-align: top;\n",
       "    }\n",
       "\n",
       "    .dataframe thead th {\n",
       "        text-align: right;\n",
       "    }\n",
       "</style>\n",
       "<table border=\"1\" class=\"dataframe\">\n",
       "  <thead>\n",
       "    <tr style=\"text-align: right;\">\n",
       "      <th></th>\n",
       "      <th>id</th>\n",
       "      <th>date</th>\n",
       "      <th>price</th>\n",
       "      <th>bedrooms</th>\n",
       "      <th>bathrooms</th>\n",
       "      <th>sqft_living</th>\n",
       "      <th>sqft_lot</th>\n",
       "      <th>floors</th>\n",
       "      <th>waterfront</th>\n",
       "      <th>view</th>\n",
       "      <th>...</th>\n",
       "      <th>grade</th>\n",
       "      <th>sqft_above</th>\n",
       "      <th>sqft_basement</th>\n",
       "      <th>yr_built</th>\n",
       "      <th>yr_renovated</th>\n",
       "      <th>zipcode</th>\n",
       "      <th>lat</th>\n",
       "      <th>long</th>\n",
       "      <th>sqft_living15</th>\n",
       "      <th>sqft_lot15</th>\n",
       "    </tr>\n",
       "  </thead>\n",
       "  <tbody>\n",
       "    <tr>\n",
       "      <th>17588</th>\n",
       "      <td>795000620</td>\n",
       "      <td>9/24/2014</td>\n",
       "      <td>115000.0</td>\n",
       "      <td>3</td>\n",
       "      <td>1.0</td>\n",
       "      <td>1080</td>\n",
       "      <td>6250</td>\n",
       "      <td>1.0</td>\n",
       "      <td>0.0</td>\n",
       "      <td>0.0</td>\n",
       "      <td>...</td>\n",
       "      <td>5</td>\n",
       "      <td>1080</td>\n",
       "      <td>0.0</td>\n",
       "      <td>1950</td>\n",
       "      <td>0.0</td>\n",
       "      <td>98168</td>\n",
       "      <td>47.5045</td>\n",
       "      <td>-122.33</td>\n",
       "      <td>1070</td>\n",
       "      <td>6250</td>\n",
       "    </tr>\n",
       "    <tr>\n",
       "      <th>17589</th>\n",
       "      <td>795000620</td>\n",
       "      <td>12/15/2014</td>\n",
       "      <td>124000.0</td>\n",
       "      <td>3</td>\n",
       "      <td>1.0</td>\n",
       "      <td>1080</td>\n",
       "      <td>6250</td>\n",
       "      <td>1.0</td>\n",
       "      <td>0.0</td>\n",
       "      <td>0.0</td>\n",
       "      <td>...</td>\n",
       "      <td>5</td>\n",
       "      <td>1080</td>\n",
       "      <td>0.0</td>\n",
       "      <td>1950</td>\n",
       "      <td>0.0</td>\n",
       "      <td>98168</td>\n",
       "      <td>47.5045</td>\n",
       "      <td>-122.33</td>\n",
       "      <td>1070</td>\n",
       "      <td>6250</td>\n",
       "    </tr>\n",
       "    <tr>\n",
       "      <th>17590</th>\n",
       "      <td>795000620</td>\n",
       "      <td>3/11/2015</td>\n",
       "      <td>157000.0</td>\n",
       "      <td>3</td>\n",
       "      <td>1.0</td>\n",
       "      <td>1080</td>\n",
       "      <td>6250</td>\n",
       "      <td>1.0</td>\n",
       "      <td>NaN</td>\n",
       "      <td>0.0</td>\n",
       "      <td>...</td>\n",
       "      <td>5</td>\n",
       "      <td>1080</td>\n",
       "      <td>0.0</td>\n",
       "      <td>1950</td>\n",
       "      <td>NaN</td>\n",
       "      <td>98168</td>\n",
       "      <td>47.5045</td>\n",
       "      <td>-122.33</td>\n",
       "      <td>1070</td>\n",
       "      <td>6250</td>\n",
       "    </tr>\n",
       "  </tbody>\n",
       "</table>\n",
       "<p>3 rows × 21 columns</p>\n",
       "</div>"
      ],
      "text/plain": [
       "              id        date     price  bedrooms  bathrooms  sqft_living  \\\n",
       "17588  795000620   9/24/2014  115000.0         3        1.0         1080   \n",
       "17589  795000620  12/15/2014  124000.0         3        1.0         1080   \n",
       "17590  795000620   3/11/2015  157000.0         3        1.0         1080   \n",
       "\n",
       "       sqft_lot  floors  waterfront  view     ...      grade  sqft_above  \\\n",
       "17588      6250     1.0         0.0   0.0     ...          5        1080   \n",
       "17589      6250     1.0         0.0   0.0     ...          5        1080   \n",
       "17590      6250     1.0         NaN   0.0     ...          5        1080   \n",
       "\n",
       "       sqft_basement yr_built  yr_renovated  zipcode      lat    long  \\\n",
       "17588            0.0     1950           0.0    98168  47.5045 -122.33   \n",
       "17589            0.0     1950           0.0    98168  47.5045 -122.33   \n",
       "17590            0.0     1950           NaN    98168  47.5045 -122.33   \n",
       "\n",
       "       sqft_living15  sqft_lot15  \n",
       "17588           1070        6250  \n",
       "17589           1070        6250  \n",
       "17590           1070        6250  \n",
       "\n",
       "[3 rows x 21 columns]"
      ]
     },
     "execution_count": 421,
     "metadata": {},
     "output_type": "execute_result"
    }
   ],
   "source": [
    "h_p[h_p.id == 795000620]"
   ]
  },
  {
   "cell_type": "code",
   "execution_count": 422,
   "metadata": {},
   "outputs": [
    {
     "data": {
      "text/html": [
       "<div>\n",
       "<style scoped>\n",
       "    .dataframe tbody tr th:only-of-type {\n",
       "        vertical-align: middle;\n",
       "    }\n",
       "\n",
       "    .dataframe tbody tr th {\n",
       "        vertical-align: top;\n",
       "    }\n",
       "\n",
       "    .dataframe thead th {\n",
       "        text-align: right;\n",
       "    }\n",
       "</style>\n",
       "<table border=\"1\" class=\"dataframe\">\n",
       "  <thead>\n",
       "    <tr style=\"text-align: right;\">\n",
       "      <th></th>\n",
       "      <th>id</th>\n",
       "      <th>date</th>\n",
       "      <th>price</th>\n",
       "      <th>bedrooms</th>\n",
       "      <th>bathrooms</th>\n",
       "      <th>sqft_living</th>\n",
       "      <th>sqft_lot</th>\n",
       "      <th>floors</th>\n",
       "      <th>waterfront</th>\n",
       "      <th>view</th>\n",
       "      <th>...</th>\n",
       "      <th>grade</th>\n",
       "      <th>sqft_above</th>\n",
       "      <th>sqft_basement</th>\n",
       "      <th>yr_built</th>\n",
       "      <th>yr_renovated</th>\n",
       "      <th>zipcode</th>\n",
       "      <th>lat</th>\n",
       "      <th>long</th>\n",
       "      <th>sqft_living15</th>\n",
       "      <th>sqft_lot15</th>\n",
       "    </tr>\n",
       "  </thead>\n",
       "  <tbody>\n",
       "    <tr>\n",
       "      <th>3946</th>\n",
       "      <td>1825069031</td>\n",
       "      <td>8/14/2014</td>\n",
       "      <td>550000.0</td>\n",
       "      <td>4</td>\n",
       "      <td>1.75</td>\n",
       "      <td>2410</td>\n",
       "      <td>8447</td>\n",
       "      <td>2.0</td>\n",
       "      <td>0.0</td>\n",
       "      <td>3.0</td>\n",
       "      <td>...</td>\n",
       "      <td>8</td>\n",
       "      <td>2060</td>\n",
       "      <td>350.0</td>\n",
       "      <td>1936</td>\n",
       "      <td>1980.0</td>\n",
       "      <td>98074</td>\n",
       "      <td>47.6499</td>\n",
       "      <td>-122.088</td>\n",
       "      <td>2520</td>\n",
       "      <td>14789</td>\n",
       "    </tr>\n",
       "    <tr>\n",
       "      <th>3947</th>\n",
       "      <td>1825069031</td>\n",
       "      <td>10/16/2014</td>\n",
       "      <td>550000.0</td>\n",
       "      <td>4</td>\n",
       "      <td>1.75</td>\n",
       "      <td>2410</td>\n",
       "      <td>8447</td>\n",
       "      <td>2.0</td>\n",
       "      <td>NaN</td>\n",
       "      <td>3.0</td>\n",
       "      <td>...</td>\n",
       "      <td>8</td>\n",
       "      <td>2060</td>\n",
       "      <td>350.0</td>\n",
       "      <td>1936</td>\n",
       "      <td>1980.0</td>\n",
       "      <td>98074</td>\n",
       "      <td>47.6499</td>\n",
       "      <td>-122.088</td>\n",
       "      <td>2520</td>\n",
       "      <td>14789</td>\n",
       "    </tr>\n",
       "  </tbody>\n",
       "</table>\n",
       "<p>2 rows × 21 columns</p>\n",
       "</div>"
      ],
      "text/plain": [
       "              id        date     price  bedrooms  bathrooms  sqft_living  \\\n",
       "3946  1825069031   8/14/2014  550000.0         4       1.75         2410   \n",
       "3947  1825069031  10/16/2014  550000.0         4       1.75         2410   \n",
       "\n",
       "      sqft_lot  floors  waterfront  view     ...      grade  sqft_above  \\\n",
       "3946      8447     2.0         0.0   3.0     ...          8        2060   \n",
       "3947      8447     2.0         NaN   3.0     ...          8        2060   \n",
       "\n",
       "      sqft_basement yr_built  yr_renovated  zipcode      lat     long  \\\n",
       "3946          350.0     1936        1980.0    98074  47.6499 -122.088   \n",
       "3947          350.0     1936        1980.0    98074  47.6499 -122.088   \n",
       "\n",
       "      sqft_living15  sqft_lot15  \n",
       "3946           2520       14789  \n",
       "3947           2520       14789  \n",
       "\n",
       "[2 rows x 21 columns]"
      ]
     },
     "execution_count": 422,
     "metadata": {},
     "output_type": "execute_result"
    }
   ],
   "source": [
    "h_p[h_p.id == 1825069031]"
   ]
  },
  {
   "cell_type": "code",
   "execution_count": 423,
   "metadata": {},
   "outputs": [],
   "source": [
    "#h_p[h_p.id == 2019200220]"
   ]
  },
  {
   "cell_type": "code",
   "execution_count": 424,
   "metadata": {},
   "outputs": [
    {
     "data": {
      "text/html": [
       "<div>\n",
       "<style scoped>\n",
       "    .dataframe tbody tr th:only-of-type {\n",
       "        vertical-align: middle;\n",
       "    }\n",
       "\n",
       "    .dataframe tbody tr th {\n",
       "        vertical-align: top;\n",
       "    }\n",
       "\n",
       "    .dataframe thead th {\n",
       "        text-align: right;\n",
       "    }\n",
       "</style>\n",
       "<table border=\"1\" class=\"dataframe\">\n",
       "  <thead>\n",
       "    <tr style=\"text-align: right;\">\n",
       "      <th></th>\n",
       "      <th>id</th>\n",
       "      <th>date</th>\n",
       "      <th>price</th>\n",
       "      <th>bedrooms</th>\n",
       "      <th>bathrooms</th>\n",
       "      <th>sqft_living</th>\n",
       "      <th>sqft_lot</th>\n",
       "      <th>floors</th>\n",
       "      <th>waterfront</th>\n",
       "      <th>view</th>\n",
       "      <th>...</th>\n",
       "      <th>grade</th>\n",
       "      <th>sqft_above</th>\n",
       "      <th>sqft_basement</th>\n",
       "      <th>yr_built</th>\n",
       "      <th>yr_renovated</th>\n",
       "      <th>zipcode</th>\n",
       "      <th>lat</th>\n",
       "      <th>long</th>\n",
       "      <th>sqft_living15</th>\n",
       "      <th>sqft_lot15</th>\n",
       "    </tr>\n",
       "  </thead>\n",
       "  <tbody>\n",
       "    <tr>\n",
       "      <th>15796</th>\n",
       "      <td>7129304540</td>\n",
       "      <td>12/20/2014</td>\n",
       "      <td>133000.0</td>\n",
       "      <td>5</td>\n",
       "      <td>2.0</td>\n",
       "      <td>1430</td>\n",
       "      <td>5600</td>\n",
       "      <td>1.5</td>\n",
       "      <td>0.0</td>\n",
       "      <td>0.0</td>\n",
       "      <td>...</td>\n",
       "      <td>6</td>\n",
       "      <td>1430</td>\n",
       "      <td>0.0</td>\n",
       "      <td>1947</td>\n",
       "      <td>NaN</td>\n",
       "      <td>98118</td>\n",
       "      <td>47.5192</td>\n",
       "      <td>-122.266</td>\n",
       "      <td>1860</td>\n",
       "      <td>5980</td>\n",
       "    </tr>\n",
       "    <tr>\n",
       "      <th>15797</th>\n",
       "      <td>7129304540</td>\n",
       "      <td>5/14/2015</td>\n",
       "      <td>440000.0</td>\n",
       "      <td>5</td>\n",
       "      <td>2.0</td>\n",
       "      <td>1430</td>\n",
       "      <td>5600</td>\n",
       "      <td>1.5</td>\n",
       "      <td>0.0</td>\n",
       "      <td>0.0</td>\n",
       "      <td>...</td>\n",
       "      <td>6</td>\n",
       "      <td>1430</td>\n",
       "      <td>0.0</td>\n",
       "      <td>1947</td>\n",
       "      <td>0.0</td>\n",
       "      <td>98118</td>\n",
       "      <td>47.5192</td>\n",
       "      <td>-122.266</td>\n",
       "      <td>1860</td>\n",
       "      <td>5980</td>\n",
       "    </tr>\n",
       "  </tbody>\n",
       "</table>\n",
       "<p>2 rows × 21 columns</p>\n",
       "</div>"
      ],
      "text/plain": [
       "               id        date     price  bedrooms  bathrooms  sqft_living  \\\n",
       "15796  7129304540  12/20/2014  133000.0         5        2.0         1430   \n",
       "15797  7129304540   5/14/2015  440000.0         5        2.0         1430   \n",
       "\n",
       "       sqft_lot  floors  waterfront  view     ...      grade  sqft_above  \\\n",
       "15796      5600     1.5         0.0   0.0     ...          6        1430   \n",
       "15797      5600     1.5         0.0   0.0     ...          6        1430   \n",
       "\n",
       "       sqft_basement yr_built  yr_renovated  zipcode      lat     long  \\\n",
       "15796            0.0     1947           NaN    98118  47.5192 -122.266   \n",
       "15797            0.0     1947           0.0    98118  47.5192 -122.266   \n",
       "\n",
       "       sqft_living15  sqft_lot15  \n",
       "15796           1860        5980  \n",
       "15797           1860        5980  \n",
       "\n",
       "[2 rows x 21 columns]"
      ]
     },
     "execution_count": 424,
     "metadata": {},
     "output_type": "execute_result"
    }
   ],
   "source": [
    "h_p[h_p.id == 7129304540]"
   ]
  },
  {
   "cell_type": "code",
   "execution_count": 425,
   "metadata": {},
   "outputs": [],
   "source": [
    "#h_p[h_p.id == 1781500435]"
   ]
  },
  {
   "cell_type": "code",
   "execution_count": 426,
   "metadata": {},
   "outputs": [],
   "source": [
    "#h_p[h_p.id == 3969300030]"
   ]
  },
  {
   "cell_type": "code",
   "execution_count": 427,
   "metadata": {},
   "outputs": [],
   "source": [
    "#h_p[h_p.id == 2560801222]"
   ]
  },
  {
   "cell_type": "code",
   "execution_count": 428,
   "metadata": {},
   "outputs": [],
   "source": [
    "#h_p[h_p.id == 3883800011]"
   ]
  },
  {
   "cell_type": "code",
   "execution_count": 429,
   "metadata": {},
   "outputs": [],
   "source": [
    "#h_p[h_p.id == 2228900270]"
   ]
  },
  {
   "cell_type": "code",
   "execution_count": 430,
   "metadata": {},
   "outputs": [],
   "source": [
    "#h_p[h_p.id == 251300110]"
   ]
  },
  {
   "cell_type": "code",
   "execution_count": null,
   "metadata": {},
   "outputs": [],
   "source": []
  },
  {
   "cell_type": "code",
   "execution_count": null,
   "metadata": {},
   "outputs": [],
   "source": []
  },
  {
   "cell_type": "code",
   "execution_count": 366,
   "metadata": {},
   "outputs": [],
   "source": [
    "# Looking for indicies to the nlargest value counts for the id column (when looked at value counts, ids with more\n",
    "# than one count are present --> multiple sales within the time frame of the data set)\n",
    "\n",
    "#ind_id_largest = h_p.id.value_counts().nlargest(30).index\n",
    "#ind_id_largest"
   ]
  },
  {
   "cell_type": "code",
   "execution_count": 367,
   "metadata": {},
   "outputs": [],
   "source": [
    "#h_p[h_p['id'] in ind_id_largest]\n",
    "#h_p[[h_p.id == ind_id_largest[i] for i in range(len(ind_id_largest))]]\n",
    "\n",
    "\n",
    "\n",
    "# Showing id and price for the first (30) houses with multiple sales in the data set --> vast increase in sales \n",
    "# price at times\n",
    "\n",
    "#for i in range(len(ind_id_largest)):\n",
    "#    print(h_p.loc[h_p.id == ind_id_largest[i], ['id', 'price']])"
   ]
  },
  {
   "cell_type": "code",
   "execution_count": null,
   "metadata": {},
   "outputs": [],
   "source": []
  },
  {
   "cell_type": "code",
   "execution_count": 368,
   "metadata": {},
   "outputs": [],
   "source": [
    "#h_p[h_p.waterfront == 1].id.value_counts().nlargest(20)"
   ]
  },
  {
   "cell_type": "code",
   "execution_count": 369,
   "metadata": {},
   "outputs": [],
   "source": [
    "#print(h_p[h_p.yr_renovated.isnull()].id.value_counts().nlargest(20))\n",
    "#h_p[h_p.yr_renovated != 0].id.value_counts().nlargest(20)"
   ]
  },
  {
   "cell_type": "code",
   "execution_count": null,
   "metadata": {},
   "outputs": [],
   "source": []
  },
  {
   "cell_type": "code",
   "execution_count": null,
   "metadata": {},
   "outputs": [],
   "source": []
  },
  {
   "cell_type": "markdown",
   "metadata": {},
   "source": [
    "#### Inference: 176 House IDs have value counts > 1 in the data set (175/2, 1/3). After inspection, it becomes clear that some houses have been sold more than once within the time scope of the data set (which only covers about a year). Where some houses were subsequently sold for the same price, most houses showed a significant increase in sales price.\n",
    "\n",
    "#### --> This indicates that houses in King County are objects of financial speculation.\n",
    "\n",
    "#### --> Advice: avoid buying a house which has recently been sold before"
   ]
  },
  {
   "cell_type": "markdown",
   "metadata": {},
   "source": [
    "#### From a first inspection, many repeatedly sold houses showed NaN values for indicies \"yr_renovated\" and \"waterfront\" where an available value was 0. This will later serve as basis for imputing these indicies."
   ]
  },
  {
   "cell_type": "code",
   "execution_count": 433,
   "metadata": {},
   "outputs": [],
   "source": [
    "# Find indices where id.value_count > 1\n",
    "\n",
    "ind_multi_ids = (h_p.id.value_counts() > 1)\n",
    "\n",
    "ind_multi_ids2 = []\n",
    "\n",
    "for i in range(len(ind_multi_ids)):\n",
    "    if ind_multi_ids.iloc[i] == True:\n",
    "        ind_multi_ids2.append(ind_multi_ids.index[i])\n",
    "\n",
    "index_list = [ind for i in range(len(ind_multi_ids2)) for ind in h_p[h_p.id == ind_multi_ids2[i]].index]\n",
    "#min(index_list)\n",
    "#index_lists[:3]"
   ]
  },
  {
   "cell_type": "code",
   "execution_count": 475,
   "metadata": {},
   "outputs": [
    {
     "data": {
      "text/plain": [
       "[17589, 17590, 3946, 3947]"
      ]
     },
     "execution_count": 475,
     "metadata": {},
     "output_type": "execute_result"
    }
   ],
   "source": [
    "# Remove first item from index list, this is the first of three sales of that house, all other were sold twice\n",
    "index_list[:4]\n",
    "#index_list.pop(0)"
   ]
  },
  {
   "cell_type": "code",
   "execution_count": 484,
   "metadata": {},
   "outputs": [
    {
     "name": "stdout",
     "output_type": "stream",
     "text": [
      "Mean Price First Sale:       352263.11\n",
      "Mean Price Second Sale:      488779.59\n",
      "Mean Increase in Sale Price: 38.75 %\n"
     ]
    },
    {
     "data": {
      "image/png": "[encoded data removed]",
      "text/plain": [
       "<Figure size 576x432 with 1 Axes>"
      ]
     },
     "metadata": {
      "needs_background": "light"
     },
     "output_type": "display_data"
    }
   ],
   "source": [
    "# Build a list of indicies and select prices for first and second sale of the house:\n",
    "\n",
    "#print(index_list[0:6])\n",
    "#print(index_list[:6:2])\n",
    "#print(index_list[1:6:2])\n",
    "#print(len(index_list[::2]))\n",
    "#print(len(index_list[1::2]))\n",
    "\n",
    "index_firstsale = index_list[::2]\n",
    "index_secondsale = index_list[1::2]\n",
    "\n",
    "h_p_firstsale = h_p.price.iloc[index_firstsale]\n",
    "h_p_secondsale = h_p.price.iloc[index_secondsale]\n",
    "\n",
    "diff_price = h_p_secondsale.values - h_p_firstsale.values\n",
    "\n",
    "\n",
    "print('Mean Price First Sale:       ' + str(round(h_p_firstsale.mean(), 2)))\n",
    "print('Mean Price Second Sale:      ' + str(round(h_p_secondsale.mean(), 2)))\n",
    "print('Mean Increase in Sale Price: ' + str(round(diff_price.mean() * 100 / h_p_firstsale.mean(), 2)) + ' %')\n",
    "#print(diff_price.mean())\n",
    "\n",
    "plt.figure(figsize=(8,6))\n",
    "plt.hist(diff_price, bins=30)\n",
    "#plt.xlabel = (\"Difference in Sale Prices\")\n",
    "plt.show()"
   ]
  },
  {
   "cell_type": "code",
   "execution_count": 488,
   "metadata": {},
   "outputs": [
    {
     "data": {
      "image/png": "[encoded data removed]",
      "text/plain": [
       "<Figure size 576x432 with 1 Axes>"
      ]
     },
     "metadata": {
      "needs_background": "light"
     },
     "output_type": "display_data"
    }
   ],
   "source": [
    "plt.figure(figsize=(8,6))\n",
    "plt.hist((diff_price * 100 / h_p_firstsale), bins=30)\n",
    "#plt.xlabel = (\"Difference in Sale Prices\")\n",
    "plt.show()"
   ]
  },
  {
   "cell_type": "markdown",
   "metadata": {},
   "source": [
    "### On average, there has been a steep increase in Sales Prices (39%) for repeatedly sold houses within this data set covering only about a year. Only the most recent house price is kept for further analysis."
   ]
  },
  {
   "cell_type": "code",
   "execution_count": 489,
   "metadata": {},
   "outputs": [
    {
     "name": "stdout",
     "output_type": "stream",
     "text": [
      "21597\n"
     ]
    },
    {
     "data": {
      "text/plain": [
       "21420"
      ]
     },
     "execution_count": 489,
     "metadata": {},
     "output_type": "execute_result"
    }
   ],
   "source": [
    "# Drop indicies for the first sale of a house from the data frame, only keep most recent house price:\n",
    "\n",
    "h_p2 = h_p.copy()\n",
    "print(len(h_p2.id))\n",
    "\n",
    "h_p2.drop(h_p2.index[index_list[0]], inplace=True)     # first price of the house which has been sold three times\n",
    "h_p2.drop(h_p2.index[index_firstsale], inplace=True)\n",
    "len(h_p2.id)  # len is reduced by 177 = 175 + 2 (175 houses sold twice, 1 house sold 3 times)"
   ]
  },
  {
   "cell_type": "markdown",
   "metadata": {},
   "source": [
    "## 4) Look at the House Price Distribution"
   ]
  },
  {
   "cell_type": "code",
   "execution_count": 490,
   "metadata": {},
   "outputs": [
    {
     "data": {
      "text/plain": [
       "450000.0    172\n",
       "350000.0    167\n",
       "550000.0    157\n",
       "500000.0    151\n",
       "425000.0    150\n",
       "325000.0    146\n",
       "400000.0    144\n",
       "375000.0    137\n",
       "300000.0    131\n",
       "525000.0    128\n",
       "250000.0    127\n",
       "475000.0    120\n",
       "330000.0    119\n",
       "650000.0    117\n",
       "275000.0    112\n",
       "Name: price, dtype: int64"
      ]
     },
     "execution_count": 490,
     "metadata": {},
     "output_type": "execute_result"
    }
   ],
   "source": [
    "# Value Counts for House Price:\n",
    "h_p2.price.value_counts().nlargest(15)"
   ]
  },
  {
   "cell_type": "code",
   "execution_count": 491,
   "metadata": {},
   "outputs": [
    {
     "data": {
      "text/plain": [
       "count      21.420000\n",
       "mean      541.759779\n",
       "std       367.555997\n",
       "min        78.000000\n",
       "25%       324.937500\n",
       "50%       450.000000\n",
       "75%       645.000000\n",
       "max      7700.000000\n",
       "Name: price, dtype: float64"
      ]
     },
     "execution_count": 491,
     "metadata": {},
     "output_type": "execute_result"
    }
   ],
   "source": [
    "# House Price summary statistics (in 1000$), nothing totally irregular/unexpected here:\n",
    "h_p2.price.describe().div(1000)"
   ]
  },
  {
   "cell_type": "code",
   "execution_count": 492,
   "metadata": {},
   "outputs": [
    {
     "data": {
      "image/png": "[encoded data removed]",
      "text/plain": [
       "<Figure size 576x432 with 1 Axes>"
      ]
     },
     "metadata": {
      "needs_background": "light"
     },
     "output_type": "display_data"
    }
   ],
   "source": [
    "# House Price Distribution (excluding the upper end):\n",
    "plt.figure(figsize=(8,6))\n",
    "_ = plt.hist(x=h_p2[h_p2.price < h_p2.price.quantile(0.98)].price, bins=50)"
   ]
  },
  {
   "cell_type": "code",
   "execution_count": 493,
   "metadata": {},
   "outputs": [
    {
     "data": {
      "image/png": "[encoded data removed]",
      "text/plain": [
       "<Figure size 576x432 with 1 Axes>"
      ]
     },
     "metadata": {
      "needs_background": "light"
     },
     "output_type": "display_data"
    }
   ],
   "source": [
    "plt.figure(figsize=(8,6))\n",
    "_ = plt.hist(x=h_p2[h_p2.price < h_p2.price.quantile(0.98)].price, bins=50)\n",
    "plt.xscale('log')"
   ]
  },
  {
   "cell_type": "code",
   "execution_count": 539,
   "metadata": {},
   "outputs": [
    {
     "data": {
      "text/plain": [
       "<matplotlib.axes._subplots.AxesSubplot at 0x1c173124a8>"
      ]
     },
     "execution_count": 539,
     "metadata": {},
     "output_type": "execute_result"
    },
    {
     "data": {
      "image/png": "[encoded data removed]",
      "text/plain": [
       "<Figure size 576x432 with 1 Axes>"
      ]
     },
     "metadata": {
      "needs_background": "light"
     },
     "output_type": "display_data"
    }
   ],
   "source": [
    "plt.figure(figsize=(8,6))\n",
    "sns.distplot(np.log(h_p2['price']), fit=norm,  bins=50, kde=False)"
   ]
  },
  {
   "cell_type": "markdown",
   "metadata": {},
   "source": [
    "#### The distribution of the House Prices for King County shows a strong positive skewness (right-skewed) as there are very few very expansive houses being sold.\n",
    "#### When scaling the x-axis according to the logarithm of the price, it shows that house prices have a distribution similar to a log-normal distribution."
   ]
  },
  {
   "cell_type": "code",
   "execution_count": null,
   "metadata": {},
   "outputs": [],
   "source": []
  },
  {
   "cell_type": "markdown",
   "metadata": {},
   "source": [
    "## 5) Exploring variables with missing values:"
   ]
  },
  {
   "cell_type": "markdown",
   "metadata": {},
   "source": [
    "### Waterfront index (1 = with waterfront, 0 = without waterfront)"
   ]
  },
  {
   "cell_type": "code",
   "execution_count": 494,
   "metadata": {},
   "outputs": [
    {
     "data": {
      "text/plain": [
       " 0.0    18924\n",
       "NaN      2350\n",
       " 1.0      146\n",
       "Name: waterfront, dtype: int64"
      ]
     },
     "execution_count": 494,
     "metadata": {},
     "output_type": "execute_result"
    }
   ],
   "source": [
    "# Value counts of waterfront index\n",
    "h_p2.waterfront.value_counts(dropna=False)"
   ]
  },
  {
   "cell_type": "markdown",
   "metadata": {},
   "source": [
    "#### I was trying to infer the waterfront value for the missing value data points by calculating the distance to the nearest neighbor. First signs showed very few data points being categorized as 1. This point stays open for future work. For now, set all missing values to 0:"
   ]
  },
  {
   "cell_type": "code",
   "execution_count": 495,
   "metadata": {},
   "outputs": [],
   "source": [
    "# Impute missing values as 0, no waterfront view, and change data type of waterfront variable to int64:\n",
    "\n",
    "h_p2.waterfront = h_p2.waterfront.fillna(0.0)\n",
    "h_p2.waterfront = h_p2.waterfront.astype('int64')"
   ]
  },
  {
   "cell_type": "code",
   "execution_count": null,
   "metadata": {},
   "outputs": [],
   "source": []
  },
  {
   "cell_type": "markdown",
   "metadata": {},
   "source": [
    "### View index (how often a house has been viewed)"
   ]
  },
  {
   "cell_type": "code",
   "execution_count": 496,
   "metadata": {},
   "outputs": [
    {
     "data": {
      "text/plain": [
       " 0.0    19253\n",
       " 2.0      956\n",
       " 3.0      505\n",
       " 1.0      329\n",
       " 4.0      314\n",
       "NaN        63\n",
       "Name: view, dtype: int64"
      ]
     },
     "execution_count": 496,
     "metadata": {},
     "output_type": "execute_result"
    }
   ],
   "source": [
    "# Value counts of view index:\n",
    "h_p2.view.value_counts(dropna=False)"
   ]
  },
  {
   "cell_type": "markdown",
   "metadata": {},
   "source": [
    "#### Only 63 values are missing, simply impute by 0s"
   ]
  },
  {
   "cell_type": "code",
   "execution_count": 497,
   "metadata": {},
   "outputs": [],
   "source": [
    "# Impute missing values as 0, not viewed, change data type of view variable to int64:\n",
    "\n",
    "h_p2.view = h_p2.view.fillna(0.0)\n",
    "h_p2.view = h_p2.view.astype('int64')"
   ]
  },
  {
   "cell_type": "code",
   "execution_count": null,
   "metadata": {},
   "outputs": [],
   "source": []
  },
  {
   "cell_type": "markdown",
   "metadata": {},
   "source": [
    "### Yr_renovated index (the year a house was renovated)"
   ]
  },
  {
   "cell_type": "code",
   "execution_count": 498,
   "metadata": {},
   "outputs": [
    {
     "name": "stdout",
     "output_type": "stream",
     "text": [
      "[0.0, 1945.0, 1954.0, 1970.0, 1971.0, 1980.0, 1991.0, nan, 1934.0, 1940.0, 1944.0, 1946.0, 1948.0, 1950.0, 1951.0, 1953.0, 1955.0, 1956.0, 1957.0, 1958.0, 1959.0, 1960.0, 1962.0, 1963.0, 1964.0, 1965.0, 1967.0, 1968.0, 1969.0, 1972.0, 1973.0, 1974.0, 1975.0, 1976.0, 1977.0, 1978.0, 1979.0, 1981.0, 1982.0, 1983.0, 1984.0, 1985.0, 1986.0, 1987.0, 1988.0, 1989.0, 1990.0, 1992.0, 1993.0, 1994.0, 1995.0, 1996.0, 1997.0, 1998.0, 1999.0, 2000.0, 2001.0, 2002.0, 2003.0, 2004.0, 2005.0, 2006.0, 2007.0, 2008.0, 2009.0, 2010.0, 2011.0, 2012.0, 2013.0, 2014.0, 2015.0]\n"
     ]
    },
    {
     "data": {
      "text/plain": [
       " 0.0       16870\n",
       "NaN         3810\n",
       " 2014.0       73\n",
       " 2003.0       31\n",
       " 2013.0       31\n",
       " 2007.0       30\n",
       " 2000.0       29\n",
       " 2005.0       29\n",
       " 2004.0       22\n",
       " 2009.0       21\n",
       " 1990.0       21\n",
       " 1989.0       20\n",
       " 2006.0       20\n",
       " 2002.0       17\n",
       " 1991.0       16\n",
       " 1998.0       16\n",
       " 1999.0       15\n",
       " 2008.0       15\n",
       " 2010.0       15\n",
       " 2001.0       15\n",
       "Name: yr_renovated, dtype: int64"
      ]
     },
     "execution_count": 498,
     "metadata": {},
     "output_type": "execute_result"
    }
   ],
   "source": [
    "# Unique values and value counts for the years the houses have been renovated:\n",
    "\n",
    "print(sorted(h_p2.yr_renovated.unique()))\n",
    "h_p2.yr_renovated.value_counts(dropna=False).nlargest(20)"
   ]
  },
  {
   "cell_type": "markdown",
   "metadata": {},
   "source": [
    "#### A lot of missing values, and a lot of values set to 0. This metric most likely is not qualified for further use in the analysis, as there are too little data points with clear information about renovation.\n",
    "\n",
    "#### I built an index for whenever a house was renovated, but it showed to be rather irrelevant for the following analysis, so I exclude it here.\n",
    "\n",
    "#### Important Note: the information about the current condition of a house already lies within the 'grade' and 'condition' variables anyhow!!"
   ]
  },
  {
   "cell_type": "code",
   "execution_count": 499,
   "metadata": {},
   "outputs": [
    {
     "data": {
      "text/plain": [
       "NaN        20680\n",
       " 2014.0       73\n",
       " 2003.0       31\n",
       " 2013.0       31\n",
       " 2007.0       30\n",
       " 2000.0       29\n",
       " 2005.0       29\n",
       " 2004.0       22\n",
       " 2009.0       21\n",
       " 1990.0       21\n",
       " 1989.0       20\n",
       " 2006.0       20\n",
       " 2002.0       17\n",
       " 1991.0       16\n",
       " 1998.0       16\n",
       " 1999.0       15\n",
       " 2008.0       15\n",
       " 2010.0       15\n",
       " 2001.0       15\n",
       " 1983.0       15\n",
       "Name: yr_renovated, dtype: int64"
      ]
     },
     "execution_count": 499,
     "metadata": {},
     "output_type": "execute_result"
    }
   ],
   "source": [
    "# Impute yr_renovated = 0 with missing values:\n",
    "\n",
    "ind_zero_renov = h_p2[h_p2.yr_renovated == 0.0].index\n",
    "#len(ind_zero_renov)\n",
    "\n",
    "h_p2.loc[ind_zero_renov, 'yr_renovated'] = np.nan\n",
    "h_p2.yr_renovated.value_counts(dropna=False).nlargest(20)"
   ]
  },
  {
   "cell_type": "code",
   "execution_count": null,
   "metadata": {},
   "outputs": [],
   "source": []
  },
  {
   "cell_type": "code",
   "execution_count": null,
   "metadata": {},
   "outputs": [],
   "source": []
  },
  {
   "cell_type": "markdown",
   "metadata": {},
   "source": [
    "## 6) Exploring value ranges and characteristics of the other variables:"
   ]
  },
  {
   "cell_type": "code",
   "execution_count": null,
   "metadata": {},
   "outputs": [],
   "source": []
  },
  {
   "cell_type": "markdown",
   "metadata": {},
   "source": [
    "### Bedrooms"
   ]
  },
  {
   "cell_type": "code",
   "execution_count": 500,
   "metadata": {},
   "outputs": [
    {
     "data": {
      "text/plain": [
       "3     9824\n",
       "4     6882\n",
       "2     2760\n",
       "5     1601\n",
       "6      272\n",
       "1      196\n",
       "7       38\n",
       "8       13\n",
       "9        6\n",
       "10       3\n",
       "11       1\n",
       "33       1\n",
       "Name: bedrooms, dtype: int64"
      ]
     },
     "execution_count": 500,
     "metadata": {},
     "output_type": "execute_result"
    }
   ],
   "source": [
    "# Value Counts of the Number of Bedrooms:\n",
    "\n",
    "#h_p.bedrooms.hist(bins=house_prices.bedrooms.max()-house_prices.bedrooms.min())\n",
    "h_p.bedrooms.value_counts(dropna=False)"
   ]
  },
  {
   "cell_type": "code",
   "execution_count": 501,
   "metadata": {},
   "outputs": [
    {
     "data": {
      "text/html": [
       "<div>\n",
       "<style scoped>\n",
       "    .dataframe tbody tr th:only-of-type {\n",
       "        vertical-align: middle;\n",
       "    }\n",
       "\n",
       "    .dataframe tbody tr th {\n",
       "        vertical-align: top;\n",
       "    }\n",
       "\n",
       "    .dataframe thead th {\n",
       "        text-align: right;\n",
       "    }\n",
       "</style>\n",
       "<table border=\"1\" class=\"dataframe\">\n",
       "  <thead>\n",
       "    <tr style=\"text-align: right;\">\n",
       "      <th></th>\n",
       "      <th>id</th>\n",
       "      <th>date</th>\n",
       "      <th>price</th>\n",
       "      <th>bedrooms</th>\n",
       "      <th>bathrooms</th>\n",
       "      <th>sqft_living</th>\n",
       "      <th>sqft_lot</th>\n",
       "      <th>floors</th>\n",
       "      <th>waterfront</th>\n",
       "      <th>view</th>\n",
       "      <th>...</th>\n",
       "      <th>grade</th>\n",
       "      <th>sqft_above</th>\n",
       "      <th>sqft_basement</th>\n",
       "      <th>yr_built</th>\n",
       "      <th>yr_renovated</th>\n",
       "      <th>zipcode</th>\n",
       "      <th>lat</th>\n",
       "      <th>long</th>\n",
       "      <th>sqft_living15</th>\n",
       "      <th>sqft_lot15</th>\n",
       "    </tr>\n",
       "  </thead>\n",
       "  <tbody>\n",
       "    <tr>\n",
       "      <th>15856</th>\n",
       "      <td>2402100895</td>\n",
       "      <td>6/25/2014</td>\n",
       "      <td>640000.0</td>\n",
       "      <td>33</td>\n",
       "      <td>1.75</td>\n",
       "      <td>1620</td>\n",
       "      <td>6000</td>\n",
       "      <td>1.0</td>\n",
       "      <td>0.0</td>\n",
       "      <td>0.0</td>\n",
       "      <td>...</td>\n",
       "      <td>7</td>\n",
       "      <td>1040</td>\n",
       "      <td>580.0</td>\n",
       "      <td>1947</td>\n",
       "      <td>0.0</td>\n",
       "      <td>98103</td>\n",
       "      <td>47.6878</td>\n",
       "      <td>-122.331</td>\n",
       "      <td>1330</td>\n",
       "      <td>4700</td>\n",
       "    </tr>\n",
       "  </tbody>\n",
       "</table>\n",
       "<p>1 rows × 21 columns</p>\n",
       "</div>"
      ],
      "text/plain": [
       "               id       date     price  bedrooms  bathrooms  sqft_living  \\\n",
       "15856  2402100895  6/25/2014  640000.0        33       1.75         1620   \n",
       "\n",
       "       sqft_lot  floors  waterfront  view     ...      grade  sqft_above  \\\n",
       "15856      6000     1.0         0.0   0.0     ...          7        1040   \n",
       "\n",
       "       sqft_basement yr_built  yr_renovated  zipcode      lat     long  \\\n",
       "15856          580.0     1947           0.0    98103  47.6878 -122.331   \n",
       "\n",
       "       sqft_living15  sqft_lot15  \n",
       "15856           1330        4700  \n",
       "\n",
       "[1 rows x 21 columns]"
      ]
     },
     "execution_count": 501,
     "metadata": {},
     "output_type": "execute_result"
    }
   ],
   "source": [
    "# Value 33 for Number of bedrooms suspicious, as it is vastly above all other values and has an average\n",
    "# living area, therefore exclude:\n",
    "\n",
    "h_p[h_p.bedrooms == 33]"
   ]
  },
  {
   "cell_type": "code",
   "execution_count": 502,
   "metadata": {},
   "outputs": [
    {
     "data": {
      "text/plain": [
       "11"
      ]
     },
     "execution_count": 502,
     "metadata": {},
     "output_type": "execute_result"
    }
   ],
   "source": [
    "# Exclude house with 33 bedrooms:\n",
    "\n",
    "h_p2.drop(h_p2[h_p2.bedrooms == 33].index, inplace=True)\n",
    "\n",
    "h_p2.bedrooms.max()"
   ]
  },
  {
   "cell_type": "code",
   "execution_count": null,
   "metadata": {},
   "outputs": [],
   "source": []
  },
  {
   "cell_type": "markdown",
   "metadata": {},
   "source": [
    "### Bathrooms"
   ]
  },
  {
   "cell_type": "code",
   "execution_count": null,
   "metadata": {},
   "outputs": [],
   "source": []
  },
  {
   "cell_type": "code",
   "execution_count": 503,
   "metadata": {},
   "outputs": [
    {
     "data": {
      "text/plain": [
       "2.50    5352\n",
       "1.00    3794\n",
       "1.75    3019\n",
       "2.25    2031\n",
       "2.00    1913\n",
       "1.50    1429\n",
       "2.75    1182\n",
       "3.00     747\n",
       "3.50     729\n",
       "3.25     586\n",
       "Name: bathrooms, dtype: int64"
      ]
     },
     "execution_count": 503,
     "metadata": {},
     "output_type": "execute_result"
    }
   ],
   "source": [
    "# Value Counts of the Number of Bathrooms:\n",
    "\n",
    "h_p2.bathrooms.value_counts(dropna=False).nlargest(10)"
   ]
  },
  {
   "cell_type": "code",
   "execution_count": 506,
   "metadata": {},
   "outputs": [
    {
     "data": {
      "text/plain": [
       "10.00    2599\n",
       "7.50     2394\n",
       "3.00     2044\n",
       "5.25     1853\n",
       "2.00     1546\n",
       "6.00     1311\n",
       "6.75     1072\n",
       "4.50      935\n",
       "9.00      908\n",
       "7.00      715\n",
       "Name: bathrooms, dtype: int64"
      ]
     },
     "execution_count": 506,
     "metadata": {},
     "output_type": "execute_result"
    }
   ],
   "source": [
    "# As said in the data set description, the number of bathrooms is stored as (#bathrooms/bedroom), so it has to\n",
    "# be multiplied be the bedrooms column:\n",
    "\n",
    "#h_p2['bathrooms'] = h_p2.bathrooms * h_p2.bedrooms   # is that really realistic?! anyhow, take it as it is said so\n",
    "h_p2.bathrooms.value_counts(dropna=False).nlargest(10)"
   ]
  },
  {
   "cell_type": "code",
   "execution_count": null,
   "metadata": {},
   "outputs": [],
   "source": []
  },
  {
   "cell_type": "markdown",
   "metadata": {},
   "source": [
    "### Sqft_Living, Sqft_Above and Sqft_Basement columns"
   ]
  },
  {
   "cell_type": "code",
   "execution_count": null,
   "metadata": {},
   "outputs": [],
   "source": []
  },
  {
   "cell_type": "code",
   "execution_count": 507,
   "metadata": {},
   "outputs": [
    {
     "data": {
      "image/png": "[encoded data removed]",
      "text/plain": [
       "<Figure size 504x360 with 1 Axes>"
      ]
     },
     "metadata": {
      "needs_background": "light"
     },
     "output_type": "display_data"
    }
   ],
   "source": [
    "# Histogram Living Area in sqft:\n",
    "plt.figure(figsize=(7,5))\n",
    "_ = plt.hist(x=h_p2[h_p2.sqft_living < h_p2.sqft_living.quantile(0.99)].sqft_living, bins=50)"
   ]
  },
  {
   "cell_type": "code",
   "execution_count": 540,
   "metadata": {},
   "outputs": [
    {
     "data": {
      "text/plain": [
       "<matplotlib.axes._subplots.AxesSubplot at 0x1c172ecac8>"
      ]
     },
     "execution_count": 540,
     "metadata": {},
     "output_type": "execute_result"
    },
    {
     "data": {
      "image/png": "[encoded data removed]",
      "text/plain": [
       "<Figure size 576x432 with 1 Axes>"
      ]
     },
     "metadata": {
      "needs_background": "light"
     },
     "output_type": "display_data"
    }
   ],
   "source": [
    "plt.figure(figsize=(8,6))\n",
    "sns.distplot(np.log(h_p2['sqft_living']), fit=norm,  bins=50, kde=False)"
   ]
  },
  {
   "cell_type": "code",
   "execution_count": 508,
   "metadata": {},
   "outputs": [
    {
     "data": {
      "image/png": "[encoded data removed]",
      "text/plain": [
       "<Figure size 504x360 with 1 Axes>"
      ]
     },
     "metadata": {
      "needs_background": "light"
     },
     "output_type": "display_data"
    }
   ],
   "source": [
    "# Histogram Above Area in sqft:\n",
    "plt.figure(figsize=(7,5))\n",
    "_ = plt.hist(x=h_p2[h_p2.sqft_above < h_p2.sqft_above.quantile(0.99)].sqft_above, bins=50)"
   ]
  },
  {
   "cell_type": "code",
   "execution_count": 541,
   "metadata": {},
   "outputs": [
    {
     "data": {
      "text/plain": [
       "<matplotlib.axes._subplots.AxesSubplot at 0x1c1baf27f0>"
      ]
     },
     "execution_count": 541,
     "metadata": {},
     "output_type": "execute_result"
    },
    {
     "data": {
      "image/png": "[encoded data removed]",
      "text/plain": [
       "<Figure size 576x432 with 1 Axes>"
      ]
     },
     "metadata": {
      "needs_background": "light"
     },
     "output_type": "display_data"
    }
   ],
   "source": [
    "plt.figure(figsize=(8,6))\n",
    "sns.distplot(np.log(h_p2['sqft_above']), fit=norm,  bins=50, kde=False)"
   ]
  },
  {
   "cell_type": "code",
   "execution_count": 509,
   "metadata": {},
   "outputs": [
    {
     "name": "stdout",
     "output_type": "stream",
     "text": [
      "21419\n",
      "12999\n",
      "8420\n"
     ]
    }
   ],
   "source": [
    "# How often does Living Area equal Above Area:\n",
    "print(len(h_p2.sqft_living))\n",
    "print((h_p2.sqft_living == h_p2.sqft_above).sum())\n",
    "print((h_p2.sqft_living != h_p2.sqft_above).sum())\n",
    "\n",
    "\n",
    "#h_p2[h_p2.sqft_living == h_p2.sqft_above].sqft_living.count()\n",
    "#h_p2[h_p2.sqft_living != h_p2.sqft_above].sqft_living.count()\n",
    "#(h_p2.sqft_living != h_p2.sqft_above).sum()\n",
    "#((h_p2.sqft_living - h_p2.sqft_above) == h_p2.sqft_basement).sum()"
   ]
  },
  {
   "cell_type": "markdown",
   "metadata": {},
   "source": [
    "### Dealing with the sqft_basement column"
   ]
  },
  {
   "cell_type": "code",
   "execution_count": 510,
   "metadata": {},
   "outputs": [
    {
     "data": {
      "text/plain": [
       "0.0       12717\n",
       "?           451\n",
       "600.0       216\n",
       "500.0       206\n",
       "700.0       206\n",
       "800.0       201\n",
       "400.0       184\n",
       "1000.0      146\n",
       "900.0       141\n",
       "300.0       141\n",
       "Name: sqft_basement, dtype: int64"
      ]
     },
     "execution_count": 510,
     "metadata": {},
     "output_type": "execute_result"
    }
   ],
   "source": [
    "# Problem with Area Column 'sqft_basement', type object and a lot of ? in the data:\n",
    "\n",
    "h_p2.sqft_basement.dtype\n",
    "h_p2.sqft_basement.value_counts(dropna=False).nlargest(10)"
   ]
  },
  {
   "cell_type": "code",
   "execution_count": 511,
   "metadata": {},
   "outputs": [
    {
     "data": {
      "text/plain": [
       "0       13168\n",
       "600       216\n",
       "700       206\n",
       "500       206\n",
       "800       201\n",
       "400       184\n",
       "1000      146\n",
       "900       141\n",
       "300       141\n",
       "480       103\n",
       "Name: sqft_basement, dtype: int64"
      ]
     },
     "execution_count": 511,
     "metadata": {},
     "output_type": "execute_result"
    }
   ],
   "source": [
    "# Change data type of Basement column to numeric and fill Errors (?) with NaNs, and NaNs with 0s\n",
    "# and change dtype to int64 (same as for sqft_living and sqft_above):\n",
    "\n",
    "h_p2['sqft_basement'] = pd.to_numeric(h_p2.sqft_basement, errors='coerce').fillna(0.0)\n",
    "h_p2.sqft_basement = h_p2.sqft_basement.astype('int64')\n",
    "\n",
    "h_p2.sqft_basement.value_counts().nlargest(10)"
   ]
  },
  {
   "cell_type": "code",
   "execution_count": 512,
   "metadata": {},
   "outputs": [
    {
     "data": {
      "text/plain": [
       "True    True\n",
       "dtype: bool"
      ]
     },
     "execution_count": 512,
     "metadata": {},
     "output_type": "execute_result"
    }
   ],
   "source": [
    "# From the data set description: sqft_living = sqft_above + sqft_basement\n",
    "# For cases with sqft_basement Information present (not 0), check if sqft_living - sqft_above equals sqft_basement: true!!\n",
    "\n",
    "ind_base = h_p2[h_p2.sqft_basement != 0].index\n",
    "len(ind_base)\n",
    "base_is_true = (h_p2.sqft_living[ind_base] - h_p2.sqft_above[ind_base]) == h_p2.sqft_basement[ind_base]\n",
    "base_is_true.value_counts()\n",
    "base_is_true.value_counts() == len(ind_base)"
   ]
  },
  {
   "cell_type": "code",
   "execution_count": 513,
   "metadata": {},
   "outputs": [
    {
     "data": {
      "text/plain": [
       "True     12999\n",
       "False      169\n",
       "dtype: int64"
      ]
     },
     "execution_count": 513,
     "metadata": {},
     "output_type": "execute_result"
    }
   ],
   "source": [
    "# For cases with sqft_basement = 0, how many values of sqft_living - sqft_above are not 0 (169):\n",
    "\n",
    "ind_nobase = h_p2[h_p2.sqft_basement == 0].index\n",
    "liv_abv_equal = h_p2.sqft_living[ind_nobase] == h_p2.sqft_above[ind_nobase]\n",
    "\n",
    "liv_abv_equal.value_counts(dropna=False)"
   ]
  },
  {
   "cell_type": "code",
   "execution_count": 514,
   "metadata": {},
   "outputs": [
    {
     "name": "stdout",
     "output_type": "stream",
     "text": [
      "169\n"
     ]
    },
    {
     "data": {
      "text/plain": [
       "0       12999\n",
       "600       220\n",
       "700       215\n",
       "500       211\n",
       "800       206\n",
       "400       184\n",
       "1000      147\n",
       "900       143\n",
       "300       141\n",
       "480       106\n",
       "Name: sqft_basement, dtype: int64"
      ]
     },
     "execution_count": 514,
     "metadata": {},
     "output_type": "execute_result"
    }
   ],
   "source": [
    "# Fill all 169 values of sqft_basement = 0 with the correct values (sqft_living - sqft_above):\n",
    "# quality check below, if all values of sqft_basement are >= 0:\n",
    "\n",
    "filter_1 = (h_p2.sqft_basement == 0) & (h_p2.sqft_living != h_p2.sqft_above)\n",
    "ind_liv_abv_nonequal = h_p2[filter_1].index\n",
    "print(len(ind_liv_abv_nonequal))\n",
    "\n",
    "h_p2.loc[ind_liv_abv_nonequal, 'sqft_basement'] = h_p2.sqft_living[ind_liv_abv_nonequal] - h_p2.sqft_above[ind_liv_abv_nonequal]\n",
    "h_p2.sqft_basement.value_counts().nlargest(10)\n",
    "#(h_p2.sqft_basement >= 0).value_counts()"
   ]
  },
  {
   "cell_type": "markdown",
   "metadata": {},
   "source": [
    "#### all 169 values of not present sqft_basement data were imputed by correct values (sqft_living - sqft_above)"
   ]
  },
  {
   "cell_type": "code",
   "execution_count": null,
   "metadata": {},
   "outputs": [],
   "source": []
  },
  {
   "cell_type": "code",
   "execution_count": null,
   "metadata": {},
   "outputs": [],
   "source": []
  },
  {
   "cell_type": "code",
   "execution_count": null,
   "metadata": {},
   "outputs": [],
   "source": []
  },
  {
   "cell_type": "code",
   "execution_count": null,
   "metadata": {},
   "outputs": [],
   "source": []
  },
  {
   "cell_type": "code",
   "execution_count": null,
   "metadata": {},
   "outputs": [],
   "source": []
  },
  {
   "cell_type": "markdown",
   "metadata": {},
   "source": [
    "### Inspection for remaining variables\n",
    "#### as already seen from the initial inspection, these variable do not contain missing values"
   ]
  },
  {
   "cell_type": "code",
   "execution_count": 515,
   "metadata": {},
   "outputs": [
    {
     "data": {
      "text/plain": [
       "5000    355\n",
       "6000    285\n",
       "4000    249\n",
       "7200    218\n",
       "7500    118\n",
       "Name: sqft_lot, dtype: int64"
      ]
     },
     "execution_count": 515,
     "metadata": {},
     "output_type": "execute_result"
    }
   ],
   "source": [
    "# Value counts for Area of the lot in sqft, sqft_lot:\n",
    "h_p2.sqft_lot.value_counts(dropna=False).nlargest(5)"
   ]
  },
  {
   "cell_type": "code",
   "execution_count": 516,
   "metadata": {},
   "outputs": [
    {
     "data": {
      "text/plain": [
       "<matplotlib.axes._subplots.AxesSubplot at 0x1c1b0054e0>"
      ]
     },
     "execution_count": 516,
     "metadata": {},
     "output_type": "execute_result"
    },
    {
     "data": {
      "image/png": "[encoded data removed]",
      "text/plain": [
       "<Figure size 576x432 with 1 Axes>"
      ]
     },
     "metadata": {
      "needs_background": "light"
     },
     "output_type": "display_data"
    }
   ],
   "source": [
    "plt.figure(figsize=(8,6))\n",
    "h_p2[h_p2.sqft_lot < h_p2.sqft_lot.quantile(0.95)].sqft_lot.hist(bins=50)"
   ]
  },
  {
   "cell_type": "code",
   "execution_count": null,
   "metadata": {},
   "outputs": [],
   "source": []
  },
  {
   "cell_type": "code",
   "execution_count": 517,
   "metadata": {},
   "outputs": [
    {
     "data": {
      "text/plain": [
       "1.0    10551\n",
       "2.0     8203\n",
       "1.5     1888\n",
       "3.0      609\n",
       "2.5      161\n",
       "3.5        7\n",
       "Name: floors, dtype: int64"
      ]
     },
     "execution_count": 517,
     "metadata": {},
     "output_type": "execute_result"
    }
   ],
   "source": [
    "# Value counts of number of Floors:\n",
    "\n",
    "h_p2.floors.value_counts(dropna=False)"
   ]
  },
  {
   "cell_type": "code",
   "execution_count": null,
   "metadata": {},
   "outputs": [],
   "source": []
  },
  {
   "cell_type": "code",
   "execution_count": 518,
   "metadata": {},
   "outputs": [
    {
     "data": {
      "text/plain": [
       "3    13900\n",
       "4     5643\n",
       "5     1686\n",
       "2      162\n",
       "1       28\n",
       "Name: condition, dtype: int64"
      ]
     },
     "execution_count": 518,
     "metadata": {},
     "output_type": "execute_result"
    }
   ],
   "source": [
    "# Value counts of condition index:\n",
    "\n",
    "h_p2.condition.value_counts()"
   ]
  },
  {
   "cell_type": "code",
   "execution_count": 519,
   "metadata": {},
   "outputs": [
    {
     "data": {
      "text/plain": [
       "condition\n",
       "1    349.480357\n",
       "2    333.746228\n",
       "3    543.812526\n",
       "4    522.262767\n",
       "5    613.214256\n",
       "Name: price, dtype: float64"
      ]
     },
     "execution_count": 519,
     "metadata": {},
     "output_type": "execute_result"
    }
   ],
   "source": [
    "# Mean Price per Condition category (in 1000$):\n",
    "\n",
    "h_p2.groupby('condition').mean().div(1000)['price']"
   ]
  },
  {
   "cell_type": "code",
   "execution_count": 520,
   "metadata": {},
   "outputs": [
    {
     "data": {
      "text/plain": [
       "7     8888\n",
       "8     6041\n",
       "9     2606\n",
       "6     1995\n",
       "10    1130\n",
       "11     396\n",
       "5      234\n",
       "12      88\n",
       "4       27\n",
       "13      13\n",
       "3        1\n",
       "Name: grade, dtype: int64"
      ]
     },
     "execution_count": 520,
     "metadata": {},
     "output_type": "execute_result"
    }
   ],
   "source": [
    "# Value counts for Grade index:\n",
    "\n",
    "h_p2.grade.value_counts()"
   ]
  },
  {
   "cell_type": "code",
   "execution_count": 521,
   "metadata": {},
   "outputs": [
    {
     "data": {
      "text/plain": [
       "grade\n",
       "3      262.000000\n",
       "4      212.001852\n",
       "5      250.274791\n",
       "6      304.047780\n",
       "7      403.466690\n",
       "8      543.361439\n",
       "9      773.619041\n",
       "10    1072.103565\n",
       "11    1499.209997\n",
       "12    2213.806818\n",
       "13    3710.769231\n",
       "Name: price, dtype: float64"
      ]
     },
     "execution_count": 521,
     "metadata": {},
     "output_type": "execute_result"
    }
   ],
   "source": [
    "# Mean Price per Grade category (in 1000$):\n",
    "\n",
    "h_p2.groupby('grade').mean().div(1000)['price']"
   ]
  },
  {
   "cell_type": "code",
   "execution_count": 522,
   "metadata": {},
   "outputs": [
    {
     "data": {
      "text/plain": [
       "<matplotlib.axes._subplots.AxesSubplot at 0x1c1bbea978>"
      ]
     },
     "execution_count": 522,
     "metadata": {},
     "output_type": "execute_result"
    },
    {
     "data": {
      "image/png": "[encoded data removed]",
      "text/plain": [
       "<Figure size 576x432 with 1 Axes>"
      ]
     },
     "metadata": {
      "needs_background": "light"
     },
     "output_type": "display_data"
    }
   ],
   "source": [
    "# Histogram of the years the houses were built:\n",
    "plt.figure(figsize=(8,6))\n",
    "h_p2.yr_built.hist(bins=range(1900,2021,10))"
   ]
  },
  {
   "cell_type": "code",
   "execution_count": 523,
   "metadata": {},
   "outputs": [
    {
     "data": {
      "text/plain": [
       "2014    559\n",
       "2006    453\n",
       "2005    450\n",
       "2004    429\n",
       "2003    420\n",
       "2007    415\n",
       "1977    415\n",
       "1978    384\n",
       "1968    379\n",
       "2008    367\n",
       "Name: yr_built, dtype: int64"
      ]
     },
     "execution_count": 523,
     "metadata": {},
     "output_type": "execute_result"
    }
   ],
   "source": [
    "# Value counts of the years the house were built (20 largest):\n",
    "\n",
    "#print(sorted(h_p.yr_built.unique()))\n",
    "h_p2.yr_built.value_counts(dropna=False).nlargest(10)"
   ]
  },
  {
   "cell_type": "code",
   "execution_count": 524,
   "metadata": {},
   "outputs": [
    {
     "data": {
      "text/plain": [
       "array([98178, 98125, 98028, 98136, 98074, 98053, 98003, 98198, 98146,\n",
       "       98038, 98007, 98115, 98107, 98126, 98019, 98103, 98002, 98133,\n",
       "       98040, 98092, 98030, 98119, 98112, 98052, 98027, 98117, 98058,\n",
       "       98001, 98056, 98166, 98023, 98070, 98148, 98105, 98042, 98008,\n",
       "       98059, 98122, 98144, 98004, 98005, 98034, 98075, 98116, 98010,\n",
       "       98118, 98199, 98032, 98045, 98102, 98077, 98108, 98168, 98177,\n",
       "       98065, 98029, 98006, 98109, 98022, 98033, 98155, 98024, 98011,\n",
       "       98031, 98106, 98072, 98188, 98014, 98055, 98039])"
      ]
     },
     "execution_count": 524,
     "metadata": {},
     "output_type": "execute_result"
    }
   ],
   "source": [
    "h_p2.zipcode.unique()"
   ]
  },
  {
   "cell_type": "code",
   "execution_count": 525,
   "metadata": {},
   "outputs": [
    {
     "data": {
      "text/plain": [
       "array([47.5112, 47.721 , 47.7379, ..., 47.3906, 47.3339, 47.6502])"
      ]
     },
     "execution_count": 525,
     "metadata": {},
     "output_type": "execute_result"
    }
   ],
   "source": [
    "h_p2.lat.unique()"
   ]
  },
  {
   "cell_type": "code",
   "execution_count": 526,
   "metadata": {},
   "outputs": [
    {
     "data": {
      "text/plain": [
       "0"
      ]
     },
     "execution_count": 526,
     "metadata": {},
     "output_type": "execute_result"
    }
   ],
   "source": [
    "h_p.long.isnull().sum()"
   ]
  },
  {
   "cell_type": "code",
   "execution_count": 527,
   "metadata": {},
   "outputs": [
    {
     "data": {
      "text/plain": [
       "<matplotlib.axes._subplots.AxesSubplot at 0x1c1a065208>"
      ]
     },
     "execution_count": 527,
     "metadata": {},
     "output_type": "execute_result"
    },
    {
     "data": {
      "image/png": "[encoded data removed]",
      "text/plain": [
       "<Figure size 576x432 with 1 Axes>"
      ]
     },
     "metadata": {
      "needs_background": "light"
     },
     "output_type": "display_data"
    }
   ],
   "source": [
    "plt.figure(figsize=(8,6))\n",
    "h_p2.sqft_living15.hist(bins=50)"
   ]
  },
  {
   "cell_type": "code",
   "execution_count": 542,
   "metadata": {},
   "outputs": [
    {
     "data": {
      "text/plain": [
       "<matplotlib.axes._subplots.AxesSubplot at 0x1c1a4d3b38>"
      ]
     },
     "execution_count": 542,
     "metadata": {},
     "output_type": "execute_result"
    },
    {
     "data": {
      "image/png": "[encoded data removed]",
      "text/plain": [
       "<Figure size 576x432 with 1 Axes>"
      ]
     },
     "metadata": {
      "needs_background": "light"
     },
     "output_type": "display_data"
    }
   ],
   "source": [
    "plt.figure(figsize=(8,6))\n",
    "sns.distplot(np.log(h_p2['sqft_living15']), fit=norm,  bins=50, kde=False)"
   ]
  },
  {
   "cell_type": "code",
   "execution_count": 528,
   "metadata": {},
   "outputs": [
    {
     "data": {
      "text/plain": [
       "<matplotlib.axes._subplots.AxesSubplot at 0x1c1bbea198>"
      ]
     },
     "execution_count": 528,
     "metadata": {},
     "output_type": "execute_result"
    },
    {
     "data": {
      "image/png": "[encoded data removed]",
      "text/plain": [
       "<Figure size 576x432 with 1 Axes>"
      ]
     },
     "metadata": {
      "needs_background": "light"
     },
     "output_type": "display_data"
    }
   ],
   "source": [
    "plt.figure(figsize=(8,6))\n",
    "h_p2[h_p2.sqft_lot15 < h_p2.sqft_lot15.quantile(0.95)].sqft_lot15.hist(bins=50)"
   ]
  },
  {
   "cell_type": "code",
   "execution_count": null,
   "metadata": {},
   "outputs": [],
   "source": []
  },
  {
   "cell_type": "code",
   "execution_count": null,
   "metadata": {},
   "outputs": [],
   "source": []
  },
  {
   "cell_type": "code",
   "execution_count": null,
   "metadata": {},
   "outputs": [],
   "source": []
  },
  {
   "cell_type": "code",
   "execution_count": null,
   "metadata": {},
   "outputs": [],
   "source": []
  },
  {
   "cell_type": "code",
   "execution_count": null,
   "metadata": {},
   "outputs": [],
   "source": []
  },
  {
   "cell_type": "markdown",
   "metadata": {},
   "source": [
    "## 7) Store cleaned data set in file for further analysis"
   ]
  },
  {
   "cell_type": "code",
   "execution_count": null,
   "metadata": {},
   "outputs": [],
   "source": []
  },
  {
   "cell_type": "code",
   "execution_count": 529,
   "metadata": {},
   "outputs": [
    {
     "name": "stdout",
     "output_type": "stream",
     "text": [
      "<class 'pandas.core.frame.DataFrame'>\n",
      "Int64Index: 21419 entries, 0 to 21596\n",
      "Data columns (total 21 columns):\n",
      "id               21419 non-null int64\n",
      "date             21419 non-null object\n",
      "price            21419 non-null float64\n",
      "bedrooms         21419 non-null int64\n",
      "bathrooms        21419 non-null float64\n",
      "sqft_living      21419 non-null int64\n",
      "sqft_lot         21419 non-null int64\n",
      "floors           21419 non-null float64\n",
      "waterfront       21419 non-null int64\n",
      "view             21419 non-null int64\n",
      "condition        21419 non-null int64\n",
      "grade            21419 non-null int64\n",
      "sqft_above       21419 non-null int64\n",
      "sqft_basement    21419 non-null int64\n",
      "yr_built         21419 non-null int64\n",
      "yr_renovated     740 non-null float64\n",
      "zipcode          21419 non-null int64\n",
      "lat              21419 non-null float64\n",
      "long             21419 non-null float64\n",
      "sqft_living15    21419 non-null int64\n",
      "sqft_lot15       21419 non-null int64\n",
      "dtypes: float64(6), int64(14), object(1)\n",
      "memory usage: 4.2+ MB\n"
     ]
    }
   ],
   "source": [
    "# inspect cleaned data frame:\n",
    "h_p2.info()"
   ]
  },
  {
   "cell_type": "code",
   "execution_count": 530,
   "metadata": {},
   "outputs": [
    {
     "data": {
      "text/plain": [
       "Int64Index([    0,     1,     2,     3,     4,     5,     6,     7,     8,\n",
       "                9,\n",
       "            ...\n",
       "            21587, 21588, 21589, 21590, 21591, 21592, 21593, 21594, 21595,\n",
       "            21596],\n",
       "           dtype='int64', length=21419)"
      ]
     },
     "execution_count": 530,
     "metadata": {},
     "output_type": "execute_result"
    }
   ],
   "source": [
    "h_p2.index"
   ]
  },
  {
   "cell_type": "code",
   "execution_count": 413,
   "metadata": {},
   "outputs": [],
   "source": [
    "# write to csv file, without the old index (header=True is default)"
   ]
  },
  {
   "cell_type": "code",
   "execution_count": 531,
   "metadata": {},
   "outputs": [],
   "source": [
    "h_p2.to_csv('/Users/dbuettner/nf-ds/Project_Data_Analysis/House_Prices_Project/king_county_house_prices_dataset_cleaned.csv', index=False)"
   ]
  },
  {
   "cell_type": "code",
   "execution_count": null,
   "metadata": {},
   "outputs": [],
   "source": []
  },
  {
   "cell_type": "code",
   "execution_count": null,
   "metadata": {},
   "outputs": [],
   "source": []
  },
  {
   "cell_type": "code",
   "execution_count": null,
   "metadata": {},
   "outputs": [],
   "source": []
  },
  {
   "cell_type": "code",
   "execution_count": null,
   "metadata": {},
   "outputs": [],
   "source": []
  },
  {
   "cell_type": "code",
   "execution_count": null,
   "metadata": {},
   "outputs": [],
   "source": []
  },
  {
   "cell_type": "code",
   "execution_count": null,
   "metadata": {},
   "outputs": [],
   "source": []
  },
  {
   "cell_type": "code",
   "execution_count": null,
   "metadata": {},
   "outputs": [],
   "source": []
  },
  {
   "cell_type": "code",
   "execution_count": null,
   "metadata": {},
   "outputs": [],
   "source": []
  },
  {
   "cell_type": "code",
   "execution_count": null,
   "metadata": {},
   "outputs": [],
   "source": []
  },
  {
   "cell_type": "code",
   "execution_count": null,
   "metadata": {},
   "outputs": [],
   "source": []
  },
  {
   "cell_type": "markdown",
   "metadata": {},
   "source": [
    "### Trying to infer the waterfront index from closest distance to neighbors, future work:"
   ]
  },
  {
   "cell_type": "code",
   "execution_count": 329,
   "metadata": {},
   "outputs": [
    {
     "data": {
      "text/plain": [
       " 0.0    19074\n",
       "NaN      2376\n",
       " 1.0      146\n",
       "Name: waterfront, dtype: int64"
      ]
     },
     "execution_count": 329,
     "metadata": {},
     "output_type": "execute_result"
    }
   ],
   "source": [
    "# store old waterfront index:\n",
    "\n",
    "wf_old = h_p.waterfront.copy()\n",
    "wf_old.value_counts(dropna=False)"
   ]
  },
  {
   "cell_type": "code",
   "execution_count": 315,
   "metadata": {},
   "outputs": [
    {
     "data": {
      "text/plain": [
       " 0.0    19074\n",
       "NaN      2376\n",
       " 1.0      146\n",
       "Name: waterfront, dtype: int64"
      ]
     },
     "execution_count": 315,
     "metadata": {},
     "output_type": "execute_result"
    }
   ],
   "source": [
    "h_p.waterfront.value_counts(dropna=False)"
   ]
  },
  {
   "cell_type": "code",
   "execution_count": 316,
   "metadata": {},
   "outputs": [
    {
     "data": {
      "text/plain": [
       "0"
      ]
     },
     "execution_count": 316,
     "metadata": {},
     "output_type": "execute_result"
    }
   ],
   "source": [
    "h_p.lat.isnull().sum()"
   ]
  },
  {
   "cell_type": "code",
   "execution_count": 317,
   "metadata": {},
   "outputs": [
    {
     "data": {
      "text/plain": [
       "0"
      ]
     },
     "execution_count": 317,
     "metadata": {},
     "output_type": "execute_result"
    }
   ],
   "source": [
    "h_p.long.isnull().sum()"
   ]
  },
  {
   "cell_type": "code",
   "execution_count": 318,
   "metadata": {},
   "outputs": [
    {
     "data": {
      "text/plain": [
       "9672"
      ]
     },
     "execution_count": 318,
     "metadata": {},
     "output_type": "execute_result"
    }
   ],
   "source": [
    "h_p.waterfront.isnull().index\n",
    "h_p[h_p.waterfront.isnull()].index\n",
    "w_f_nan_ind = h_p[h_p.waterfront.isnull()].index\n",
    "w_f_nan_ind[1110]"
   ]
  },
  {
   "cell_type": "code",
   "execution_count": 319,
   "metadata": {},
   "outputs": [
    {
     "data": {
      "text/plain": [
       "47.6007"
      ]
     },
     "execution_count": 319,
     "metadata": {},
     "output_type": "execute_result"
    }
   ],
   "source": [
    "h_p.lat[w_f_nan_ind[1]]"
   ]
  },
  {
   "cell_type": "code",
   "execution_count": 320,
   "metadata": {},
   "outputs": [],
   "source": [
    "h_p_lat2 = h_p.lat.drop(w_f_nan_ind[111])\n",
    "len(h_p_lat2)\n",
    "h_p_lat3 = h_p.lat[h_p.index != w_f_nan_ind[111]]"
   ]
  },
  {
   "cell_type": "code",
   "execution_count": 321,
   "metadata": {},
   "outputs": [
    {
     "data": {
      "text/plain": [
       "id               6329000705\n",
       "date               4/2/2015\n",
       "price                545000\n",
       "bedrooms                  2\n",
       "bathrooms               1.5\n",
       "sqft_living            2340\n",
       "sqft_lot              13380\n",
       "floors                    1\n",
       "waterfront              NaN\n",
       "view                      0\n",
       "condition                 4\n",
       "grade                     7\n",
       "sqft_above             1280\n",
       "sqft_basement          1060\n",
       "yr_built               1954\n",
       "yr_renovated            NaN\n",
       "zipcode               98146\n",
       "lat                 47.5017\n",
       "long               -122.377\n",
       "sqft_living15          1490\n",
       "sqft_lot15             8100\n",
       "renovated             False\n",
       "Name: 8625, dtype: object"
      ]
     },
     "execution_count": 321,
     "metadata": {},
     "output_type": "execute_result"
    }
   ],
   "source": [
    "h_p.lat[abs(h_p_lat3 - h_p.lat[w_f_nan_ind[1000]]).min()]\n",
    "\n",
    "abs(h_p_lat3 - h_p.lat[w_f_nan_ind[1500]]).value_counts()\n",
    "(abs(h_p_lat3 - h_p.lat[w_f_nan_ind[1000]]) == 0).sum()\n",
    "h_p_lat3[abs(h_p_lat3 - h_p.lat[w_f_nan_ind[1000]]) == 0].index[0]\n",
    "ind_w_f_nan_test = h_p_lat3[abs(h_p_lat3 - h_p.lat[w_f_nan_ind[1000]]) == 0].index[0]\n",
    "\n",
    "#ind_w_f_nan_test2 = h_p_lat3[(abs(h_p_lat3 - h_p.lat[w_f_nan_ind[1000]]) == 0).all() and (h_p.waterfront.notna())].index\n",
    "#ind_w_f_nan_test2\n",
    "h_p.loc[ind_w_f_nan_test, :]"
   ]
  },
  {
   "cell_type": "code",
   "execution_count": 322,
   "metadata": {},
   "outputs": [
    {
     "data": {
      "text/plain": [
       "id            9.290800e+09\n",
       "lat           4.743350e+01\n",
       "long         -1.223380e+02\n",
       "waterfront    0.000000e+00\n",
       "Name: 6532, dtype: float64"
      ]
     },
     "execution_count": 322,
     "metadata": {},
     "output_type": "execute_result"
    }
   ],
   "source": [
    "h_p_wf = h_p[['id', 'lat', 'long', 'waterfront']]\n",
    "#h_p_wf.info()\n",
    "h_p_wf_nan = h_p_wf[h_p_wf.waterfront.isnull()]\n",
    "h_p_wf_notnan = h_p_wf[h_p_wf.waterfront.notnull()]\n",
    "#h_p_wf_nan.info()\n",
    "#h_p_wf_notnan.info()\n",
    "\n",
    "#h_p_wf_nan.lat.iloc[100]\n",
    "#h_p_wf_notnan[abs(h_p_wf_notnan.lat - h_p_wf_nan.lat.iloc[0]).min()]\n",
    "\n",
    "\n",
    "ind_wf1 = abs(h_p_wf_notnan.lat - h_p_wf_nan.lat.iloc[2])\n",
    "ind_wf2 = np.sqrt((h_p_wf_notnan.lat - h_p_wf_nan.lat.iloc[5])**2 + (h_p_wf_notnan.long - h_p_wf_nan.long.iloc[5])**2)\n",
    "\n",
    "ind_wf2.sort_values().index[0]\n",
    "\n",
    "#ind_wf1.sort_values().index[0]\n",
    "#h_p_wf_notnan.loc[ind_wf1.sort_values().index[:100]]\n",
    "\n",
    "\n",
    "ind_wf2.sort_values().index[0]\n",
    "h_p_wf_notnan.loc[ind_wf2.sort_values().index[0]]\n",
    "\n",
    "\n",
    "#h_p_wf_notnan[abs(h_p_wf_notnan.lat - h_p_wf_nan.lat.iloc[0]).min()]"
   ]
  },
  {
   "cell_type": "code",
   "execution_count": 323,
   "metadata": {},
   "outputs": [
    {
     "data": {
      "text/plain": [
       "10610"
      ]
     },
     "execution_count": 323,
     "metadata": {},
     "output_type": "execute_result"
    }
   ],
   "source": [
    "ind_wf2 = np.sqrt((h_p_wf_notnan.lat - h_p_wf_nan.lat.iloc[120])**2 + (h_p_wf_notnan.long - h_p_wf_nan.long.iloc[120])**2)\n",
    "ind_wf2.sort_values().index[0]"
   ]
  },
  {
   "cell_type": "code",
   "execution_count": 331,
   "metadata": {},
   "outputs": [],
   "source": [
    "waterfront_value_for_nan = []\n",
    "\n",
    "for i in range(len(h_p_wf_nan)):\n",
    "    ind_wf2 = np.sqrt((h_p_wf_notnan.lat - h_p_wf_nan.lat.iloc[i])**2 + (h_p_wf_notnan.long - h_p_wf_nan.long.iloc[i])**2)\n",
    "    wf_value = h_p_wf_notnan.waterfront.loc[ind_wf2.sort_values().index[0]].max()\n",
    "    waterfront_value_for_nan.append(wf_value)\n",
    "    \n",
    "    h_p.loc[ind_wf2.sort_values().index[0], 'waterfront'] = wf_value\n",
    "    \n"
   ]
  },
  {
   "cell_type": "code",
   "execution_count": 332,
   "metadata": {},
   "outputs": [
    {
     "data": {
      "text/plain": [
       "12.0"
      ]
     },
     "execution_count": 332,
     "metadata": {},
     "output_type": "execute_result"
    }
   ],
   "source": [
    "sum(waterfront_value_for_nan)"
   ]
  },
  {
   "cell_type": "code",
   "execution_count": 333,
   "metadata": {},
   "outputs": [
    {
     "data": {
      "text/plain": [
       " 0.0    19074\n",
       "NaN      2376\n",
       " 1.0      146\n",
       "Name: waterfront, dtype: int64"
      ]
     },
     "execution_count": 333,
     "metadata": {},
     "output_type": "execute_result"
    }
   ],
   "source": [
    "h_p.waterfront.value_counts(dropna=False)"
   ]
  },
  {
   "cell_type": "code",
   "execution_count": null,
   "metadata": {},
   "outputs": [],
   "source": []
  }
 ],
 "metadata": {
  "kernelspec": {
   "display_name": "Python [conda env:nf] *",
   "language": "python",
   "name": "conda-env-nf-py"
  },
  "language_info": {
   "codemirror_mode": {
    "name": "ipython",
    "version": 3
   },
   "file_extension": ".py",
   "mimetype": "text/x-python",
   "name": "python",
   "nbconvert_exporter": "python",
   "pygments_lexer": "ipython3",
   "version": "3.6.6"
  }
 },
 "nbformat": 4,
 "nbformat_minor": 2
}
